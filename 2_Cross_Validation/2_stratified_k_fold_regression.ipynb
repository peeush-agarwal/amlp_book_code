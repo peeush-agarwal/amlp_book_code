{
 "metadata": {
  "language_info": {
   "codemirror_mode": {
    "name": "ipython",
    "version": 3
   },
   "file_extension": ".py",
   "mimetype": "text/x-python",
   "name": "python",
   "nbconvert_exporter": "python",
   "pygments_lexer": "ipython3",
   "version": "3.7.6-final"
  },
  "orig_nbformat": 2,
  "kernelspec": {
   "name": "python_defaultSpec_1598979627529",
   "display_name": "Python 3.7.6 64-bit ('ml': conda)"
  }
 },
 "nbformat": 4,
 "nbformat_minor": 2,
 "cells": [
  {
   "cell_type": "markdown",
   "metadata": {},
   "source": [
    "# Stratified KFold Cross validation"
   ]
  },
  {
   "cell_type": "markdown",
   "metadata": {},
   "source": [
    "## Import libraries"
   ]
  },
  {
   "cell_type": "code",
   "execution_count": 28,
   "metadata": {},
   "outputs": [],
   "source": [
    "import pandas as pd\n",
    "import numpy as np\n",
    "\n",
    "from sklearn.datasets import make_regression\n",
    "from sklearn.model_selection import StratifiedKFold"
   ]
  },
  {
   "cell_type": "markdown",
   "metadata": {},
   "source": [
    "## Create the dataset for regression\n",
    "\n",
    "+ Samples = 15000\n",
    "+ Features = 15\n",
    "+ Target = 1"
   ]
  },
  {
   "cell_type": "code",
   "execution_count": 29,
   "metadata": {
    "tags": []
   },
   "outputs": [
    {
     "output_type": "stream",
     "name": "stdout",
     "text": "(15000, 15) (15000,)\n"
    }
   ],
   "source": [
    "X, y = make_regression(n_samples=15000, n_features=15, n_targets=1, random_state=42)\n",
    "\n",
    "print(X.shape, y.shape)"
   ]
  },
  {
   "cell_type": "code",
   "execution_count": 30,
   "metadata": {},
   "outputs": [
    {
     "output_type": "execute_result",
     "data": {
      "text/plain": "        f_1       f_2       f_3       f_4       f_5       f_6       f_7  \\\n0 -0.236584  1.576358  0.696042  1.512049  0.635228  0.056872  0.985621   \n1 -0.945243  1.225928  0.406758 -1.124507  0.026850 -1.290316 -0.962637   \n2 -1.802891  1.517912 -0.597097 -1.308712 -0.432225 -0.046989  0.728738   \n3 -1.101839  0.764034  2.204999  0.314847  1.078584 -1.614898  0.116136   \n4  0.170064  0.001013 -0.571043 -0.563529  1.204455 -0.457567  0.369362   \n\n        f_8       f_9      f_10      f_11      f_12      f_13      f_14  \\\n0  0.244609  1.298732  1.318061  0.516612  1.004831  0.001747  0.592848   \n1  0.402836 -1.721356  0.108272  0.511595  0.795818 -2.011014  0.362332   \n2 -0.031939 -0.345655 -0.037924  0.401426  1.126620  0.120176  0.187310   \n3  0.565243  0.135688 -2.070400  0.868964 -0.437597  1.268543 -1.197479   \n4 -0.392459  0.553600 -0.006358  1.086829  0.603846 -0.732885  0.263391   \n\n       f_15      target  \n0  1.286301  320.865170  \n1 -0.003083 -146.960450  \n2  0.200815  -33.300111  \n3 -0.011393  137.267936  \n4  0.205743   -8.268430  ",
      "text/html": "<div>\n<style scoped>\n    .dataframe tbody tr th:only-of-type {\n        vertical-align: middle;\n    }\n\n    .dataframe tbody tr th {\n        vertical-align: top;\n    }\n\n    .dataframe thead th {\n        text-align: right;\n    }\n</style>\n<table border=\"1\" class=\"dataframe\">\n  <thead>\n    <tr style=\"text-align: right;\">\n      <th></th>\n      <th>f_1</th>\n      <th>f_2</th>\n      <th>f_3</th>\n      <th>f_4</th>\n      <th>f_5</th>\n      <th>f_6</th>\n      <th>f_7</th>\n      <th>f_8</th>\n      <th>f_9</th>\n      <th>f_10</th>\n      <th>f_11</th>\n      <th>f_12</th>\n      <th>f_13</th>\n      <th>f_14</th>\n      <th>f_15</th>\n      <th>target</th>\n    </tr>\n  </thead>\n  <tbody>\n    <tr>\n      <th>0</th>\n      <td>-0.236584</td>\n      <td>1.576358</td>\n      <td>0.696042</td>\n      <td>1.512049</td>\n      <td>0.635228</td>\n      <td>0.056872</td>\n      <td>0.985621</td>\n      <td>0.244609</td>\n      <td>1.298732</td>\n      <td>1.318061</td>\n      <td>0.516612</td>\n      <td>1.004831</td>\n      <td>0.001747</td>\n      <td>0.592848</td>\n      <td>1.286301</td>\n      <td>320.865170</td>\n    </tr>\n    <tr>\n      <th>1</th>\n      <td>-0.945243</td>\n      <td>1.225928</td>\n      <td>0.406758</td>\n      <td>-1.124507</td>\n      <td>0.026850</td>\n      <td>-1.290316</td>\n      <td>-0.962637</td>\n      <td>0.402836</td>\n      <td>-1.721356</td>\n      <td>0.108272</td>\n      <td>0.511595</td>\n      <td>0.795818</td>\n      <td>-2.011014</td>\n      <td>0.362332</td>\n      <td>-0.003083</td>\n      <td>-146.960450</td>\n    </tr>\n    <tr>\n      <th>2</th>\n      <td>-1.802891</td>\n      <td>1.517912</td>\n      <td>-0.597097</td>\n      <td>-1.308712</td>\n      <td>-0.432225</td>\n      <td>-0.046989</td>\n      <td>0.728738</td>\n      <td>-0.031939</td>\n      <td>-0.345655</td>\n      <td>-0.037924</td>\n      <td>0.401426</td>\n      <td>1.126620</td>\n      <td>0.120176</td>\n      <td>0.187310</td>\n      <td>0.200815</td>\n      <td>-33.300111</td>\n    </tr>\n    <tr>\n      <th>3</th>\n      <td>-1.101839</td>\n      <td>0.764034</td>\n      <td>2.204999</td>\n      <td>0.314847</td>\n      <td>1.078584</td>\n      <td>-1.614898</td>\n      <td>0.116136</td>\n      <td>0.565243</td>\n      <td>0.135688</td>\n      <td>-2.070400</td>\n      <td>0.868964</td>\n      <td>-0.437597</td>\n      <td>1.268543</td>\n      <td>-1.197479</td>\n      <td>-0.011393</td>\n      <td>137.267936</td>\n    </tr>\n    <tr>\n      <th>4</th>\n      <td>0.170064</td>\n      <td>0.001013</td>\n      <td>-0.571043</td>\n      <td>-0.563529</td>\n      <td>1.204455</td>\n      <td>-0.457567</td>\n      <td>0.369362</td>\n      <td>-0.392459</td>\n      <td>0.553600</td>\n      <td>-0.006358</td>\n      <td>1.086829</td>\n      <td>0.603846</td>\n      <td>-0.732885</td>\n      <td>0.263391</td>\n      <td>0.205743</td>\n      <td>-8.268430</td>\n    </tr>\n  </tbody>\n</table>\n</div>"
     },
     "metadata": {},
     "execution_count": 30
    }
   ],
   "source": [
    "# Create DataFrame out of Numpy arrays\n",
    "df = pd.DataFrame(X, columns = [f'f_{i+1}' for i in range(X.shape[1])])\n",
    "df.loc[:, 'target'] = y\n",
    "\n",
    "df.head()"
   ]
  },
  {
   "cell_type": "code",
   "execution_count": 31,
   "metadata": {},
   "outputs": [],
   "source": [
    "def create_folds(data):\n",
    "    # Add column 'kfold' and assign -1 to all rows\n",
    "    data['kfold'] = -1\n",
    "\n",
    "    # Shuffle the data\n",
    "    data = data.sample(frac=1).reset_index(drop=True)\n",
    "\n",
    "    # Find n_bins using Sturge's rule: n_bins = 1 + log2(N) where N = number of samples\n",
    "    n_bins = int(np.floor(1 + np.log2(data.shape[0])))\n",
    "    print('Number of bins = {}'.format(n_bins))\n",
    "\n",
    "    # Divide targets into \"bins\"\n",
    "    data.loc[:, 'bins'] = pd.cut(df['target'], bins=n_bins, labels = False)\n",
    "\n",
    "    # Create StratifiedKFold object\n",
    "    kf = StratifiedKFold(n_splits=5)\n",
    "\n",
    "    # Fill the kfold column\n",
    "    for fold_, (training_, validation_) in enumerate(kf.split(X=data, y=data['bins'])):\n",
    "        data.loc[validation_, 'kfold'] = fold_\n",
    "    \n",
    "    # Drop bins column\n",
    "    data.drop('bins', axis=1, inplace=True)\n",
    "\n",
    "    # Return dataframe\n",
    "    return data"
   ]
  },
  {
   "cell_type": "code",
   "execution_count": 32,
   "metadata": {
    "tags": []
   },
   "outputs": [
    {
     "output_type": "stream",
     "name": "stdout",
     "text": "Number of bins = 14\n"
    }
   ],
   "source": [
    "df_2 = create_folds(df.copy())"
   ]
  },
  {
   "cell_type": "code",
   "execution_count": 33,
   "metadata": {},
   "outputs": [
    {
     "output_type": "execute_result",
     "data": {
      "text/plain": "        f_1       f_2       f_3       f_4       f_5       f_6       f_7  \\\n0 -0.893224 -0.373196  1.417868 -0.549829 -0.737362 -1.969256 -0.167549   \n1 -0.879132  0.742245  0.886591 -1.560476 -1.081319  0.980109 -0.160001   \n2 -0.236508  1.277915  1.490967  1.733480 -1.849484  0.780374 -1.322450   \n3  1.281644  1.661470 -0.616361  0.020886 -0.175854 -0.103255 -0.375196   \n4  0.031042 -0.456549 -0.379796  0.550247 -0.462288 -0.067089 -1.018010   \n\n        f_8       f_9      f_10      f_11      f_12      f_13      f_14  \\\n0  1.059193 -1.475840  1.999050 -0.305777  1.483075 -1.568790  0.788723   \n1  0.966173  0.285961  0.545167  1.113768  1.486477  1.434749 -1.045364   \n2  0.391116 -2.121277  0.089028  0.267048  0.730495 -0.200168 -1.366043   \n3 -1.600904 -0.317715  0.557691 -1.260165  1.489863 -1.643189  0.230701   \n4  0.507790 -0.059267  0.682241  0.395908 -1.162657  0.471239 -0.661309   \n\n       f_15      target  kfold  \n0 -1.680943 -250.742130      0  \n1 -0.155307   -4.030150      0  \n2 -0.463169   24.458284      0  \n3 -0.828497 -200.097603      0  \n4  0.477690   62.243694      0  ",
      "text/html": "<div>\n<style scoped>\n    .dataframe tbody tr th:only-of-type {\n        vertical-align: middle;\n    }\n\n    .dataframe tbody tr th {\n        vertical-align: top;\n    }\n\n    .dataframe thead th {\n        text-align: right;\n    }\n</style>\n<table border=\"1\" class=\"dataframe\">\n  <thead>\n    <tr style=\"text-align: right;\">\n      <th></th>\n      <th>f_1</th>\n      <th>f_2</th>\n      <th>f_3</th>\n      <th>f_4</th>\n      <th>f_5</th>\n      <th>f_6</th>\n      <th>f_7</th>\n      <th>f_8</th>\n      <th>f_9</th>\n      <th>f_10</th>\n      <th>f_11</th>\n      <th>f_12</th>\n      <th>f_13</th>\n      <th>f_14</th>\n      <th>f_15</th>\n      <th>target</th>\n      <th>kfold</th>\n    </tr>\n  </thead>\n  <tbody>\n    <tr>\n      <th>0</th>\n      <td>-0.893224</td>\n      <td>-0.373196</td>\n      <td>1.417868</td>\n      <td>-0.549829</td>\n      <td>-0.737362</td>\n      <td>-1.969256</td>\n      <td>-0.167549</td>\n      <td>1.059193</td>\n      <td>-1.475840</td>\n      <td>1.999050</td>\n      <td>-0.305777</td>\n      <td>1.483075</td>\n      <td>-1.568790</td>\n      <td>0.788723</td>\n      <td>-1.680943</td>\n      <td>-250.742130</td>\n      <td>0</td>\n    </tr>\n    <tr>\n      <th>1</th>\n      <td>-0.879132</td>\n      <td>0.742245</td>\n      <td>0.886591</td>\n      <td>-1.560476</td>\n      <td>-1.081319</td>\n      <td>0.980109</td>\n      <td>-0.160001</td>\n      <td>0.966173</td>\n      <td>0.285961</td>\n      <td>0.545167</td>\n      <td>1.113768</td>\n      <td>1.486477</td>\n      <td>1.434749</td>\n      <td>-1.045364</td>\n      <td>-0.155307</td>\n      <td>-4.030150</td>\n      <td>0</td>\n    </tr>\n    <tr>\n      <th>2</th>\n      <td>-0.236508</td>\n      <td>1.277915</td>\n      <td>1.490967</td>\n      <td>1.733480</td>\n      <td>-1.849484</td>\n      <td>0.780374</td>\n      <td>-1.322450</td>\n      <td>0.391116</td>\n      <td>-2.121277</td>\n      <td>0.089028</td>\n      <td>0.267048</td>\n      <td>0.730495</td>\n      <td>-0.200168</td>\n      <td>-1.366043</td>\n      <td>-0.463169</td>\n      <td>24.458284</td>\n      <td>0</td>\n    </tr>\n    <tr>\n      <th>3</th>\n      <td>1.281644</td>\n      <td>1.661470</td>\n      <td>-0.616361</td>\n      <td>0.020886</td>\n      <td>-0.175854</td>\n      <td>-0.103255</td>\n      <td>-0.375196</td>\n      <td>-1.600904</td>\n      <td>-0.317715</td>\n      <td>0.557691</td>\n      <td>-1.260165</td>\n      <td>1.489863</td>\n      <td>-1.643189</td>\n      <td>0.230701</td>\n      <td>-0.828497</td>\n      <td>-200.097603</td>\n      <td>0</td>\n    </tr>\n    <tr>\n      <th>4</th>\n      <td>0.031042</td>\n      <td>-0.456549</td>\n      <td>-0.379796</td>\n      <td>0.550247</td>\n      <td>-0.462288</td>\n      <td>-0.067089</td>\n      <td>-1.018010</td>\n      <td>0.507790</td>\n      <td>-0.059267</td>\n      <td>0.682241</td>\n      <td>0.395908</td>\n      <td>-1.162657</td>\n      <td>0.471239</td>\n      <td>-0.661309</td>\n      <td>0.477690</td>\n      <td>62.243694</td>\n      <td>0</td>\n    </tr>\n  </tbody>\n</table>\n</div>"
     },
     "metadata": {},
     "execution_count": 33
    }
   ],
   "source": [
    "df_2.head()"
   ]
  },
  {
   "cell_type": "code",
   "execution_count": 34,
   "metadata": {},
   "outputs": [
    {
     "output_type": "execute_result",
     "data": {
      "text/plain": "4    3000\n3    3000\n2    3000\n1    3000\n0    3000\nName: kfold, dtype: int64"
     },
     "metadata": {},
     "execution_count": 34
    }
   ],
   "source": [
    "df_2['kfold'].value_counts()"
   ]
  },
  {
   "cell_type": "code",
   "execution_count": null,
   "metadata": {},
   "outputs": [],
   "source": []
  }
 ]
}