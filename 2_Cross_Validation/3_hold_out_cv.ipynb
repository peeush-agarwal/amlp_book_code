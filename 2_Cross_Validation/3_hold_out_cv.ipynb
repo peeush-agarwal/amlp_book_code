{
 "metadata": {
  "language_info": {
   "codemirror_mode": {
    "name": "ipython",
    "version": 3
   },
   "file_extension": ".py",
   "mimetype": "text/x-python",
   "name": "python",
   "nbconvert_exporter": "python",
   "pygments_lexer": "ipython3",
   "version": "3.7.6-final"
  },
  "orig_nbformat": 2,
  "kernelspec": {
   "name": "python_defaultSpec_1599153966994",
   "display_name": "Python 3.7.6 64-bit ('ml': conda)"
  }
 },
 "nbformat": 4,
 "nbformat_minor": 2,
 "cells": [
  {
   "cell_type": "markdown",
   "metadata": {},
   "source": [
    "# Hold-out based cross-validation"
   ]
  },
  {
   "cell_type": "markdown",
   "metadata": {},
   "source": [
    "## Import libraries"
   ]
  },
  {
   "cell_type": "code",
   "execution_count": 1,
   "metadata": {},
   "outputs": [],
   "source": [
    "import pandas as pd\n",
    "from sklearn.datasets import make_regression"
   ]
  },
  {
   "cell_type": "markdown",
   "metadata": {},
   "source": [
    "## Create the dataset\n",
    "\n",
    "+ n_samples  = 1000\n",
    "+ n_features = 10\n",
    "+ n_targets  = 1"
   ]
  },
  {
   "cell_type": "code",
   "execution_count": 2,
   "metadata": {},
   "outputs": [
    {
     "output_type": "execute_result",
     "data": {
      "text/plain": "((1000, 10), (1000,))"
     },
     "metadata": {},
     "execution_count": 2
    }
   ],
   "source": [
    "features, target = make_regression(n_samples=1000, n_features=10, n_targets=1, random_state=42)\n",
    "features.shape, target.shape"
   ]
  },
  {
   "cell_type": "code",
   "execution_count": 3,
   "metadata": {
    "tags": []
   },
   "outputs": [
    {
     "output_type": "execute_result",
     "data": {
      "text/plain": "        f_0       f_1       f_2       f_3       f_4       f_5       f_6  \\\n0  1.317115  0.546734 -0.999302 -0.607822 -0.022868  1.296995  0.840620   \n1 -0.093636  0.551741 -1.519346 -1.397118  1.038379 -0.583599 -0.451159   \n2 -0.025027 -0.186971 -1.065114  0.557810 -1.311836  0.010353 -0.609512   \n3 -1.098620  0.072279  0.595491  0.221558 -1.031955  1.234752 -0.132169   \n4  0.175211 -1.130888  0.420094 -0.313530  0.482688  0.921802  2.056544   \n\n        f_7       f_8       f_9      target  \n0 -2.121855 -0.118069 -0.504775   90.396848  \n1 -1.287164  1.325797 -2.832156 -276.089545  \n2  1.390208  0.817766 -0.305225  -74.400308  \n3 -0.113481  1.420504 -0.589895   24.512224  \n4  0.367482  2.985259  0.606851  126.362711  ",
      "text/html": "<div>\n<style scoped>\n    .dataframe tbody tr th:only-of-type {\n        vertical-align: middle;\n    }\n\n    .dataframe tbody tr th {\n        vertical-align: top;\n    }\n\n    .dataframe thead th {\n        text-align: right;\n    }\n</style>\n<table border=\"1\" class=\"dataframe\">\n  <thead>\n    <tr style=\"text-align: right;\">\n      <th></th>\n      <th>f_0</th>\n      <th>f_1</th>\n      <th>f_2</th>\n      <th>f_3</th>\n      <th>f_4</th>\n      <th>f_5</th>\n      <th>f_6</th>\n      <th>f_7</th>\n      <th>f_8</th>\n      <th>f_9</th>\n      <th>target</th>\n    </tr>\n  </thead>\n  <tbody>\n    <tr>\n      <th>0</th>\n      <td>1.317115</td>\n      <td>0.546734</td>\n      <td>-0.999302</td>\n      <td>-0.607822</td>\n      <td>-0.022868</td>\n      <td>1.296995</td>\n      <td>0.840620</td>\n      <td>-2.121855</td>\n      <td>-0.118069</td>\n      <td>-0.504775</td>\n      <td>90.396848</td>\n    </tr>\n    <tr>\n      <th>1</th>\n      <td>-0.093636</td>\n      <td>0.551741</td>\n      <td>-1.519346</td>\n      <td>-1.397118</td>\n      <td>1.038379</td>\n      <td>-0.583599</td>\n      <td>-0.451159</td>\n      <td>-1.287164</td>\n      <td>1.325797</td>\n      <td>-2.832156</td>\n      <td>-276.089545</td>\n    </tr>\n    <tr>\n      <th>2</th>\n      <td>-0.025027</td>\n      <td>-0.186971</td>\n      <td>-1.065114</td>\n      <td>0.557810</td>\n      <td>-1.311836</td>\n      <td>0.010353</td>\n      <td>-0.609512</td>\n      <td>1.390208</td>\n      <td>0.817766</td>\n      <td>-0.305225</td>\n      <td>-74.400308</td>\n    </tr>\n    <tr>\n      <th>3</th>\n      <td>-1.098620</td>\n      <td>0.072279</td>\n      <td>0.595491</td>\n      <td>0.221558</td>\n      <td>-1.031955</td>\n      <td>1.234752</td>\n      <td>-0.132169</td>\n      <td>-0.113481</td>\n      <td>1.420504</td>\n      <td>-0.589895</td>\n      <td>24.512224</td>\n    </tr>\n    <tr>\n      <th>4</th>\n      <td>0.175211</td>\n      <td>-1.130888</td>\n      <td>0.420094</td>\n      <td>-0.313530</td>\n      <td>0.482688</td>\n      <td>0.921802</td>\n      <td>2.056544</td>\n      <td>0.367482</td>\n      <td>2.985259</td>\n      <td>0.606851</td>\n      <td>126.362711</td>\n    </tr>\n  </tbody>\n</table>\n</div>"
     },
     "metadata": {},
     "execution_count": 3
    }
   ],
   "source": [
    "# Create dataframe out of data array\n",
    "df = pd.DataFrame(data = features, columns=[f'f_{i}' for i in range(features.shape[1])])\n",
    "df['target'] = target\n",
    "df.head()"
   ]
  },
  {
   "cell_type": "markdown",
   "metadata": {},
   "source": [
    "## Divide the dataset into the training set and the validation set\n",
    "\n",
    "Let Training set vs validation set ratio be `7:3`"
   ]
  },
  {
   "cell_type": "code",
   "execution_count": 4,
   "metadata": {
    "tags": []
   },
   "outputs": [
    {
     "output_type": "stream",
     "name": "stdout",
     "text": "(1000, 11)\n"
    },
    {
     "output_type": "execute_result",
     "data": {
      "text/plain": "        f_0       f_1       f_2       f_3       f_4       f_5       f_6  \\\n0 -0.445795 -0.770814 -0.371462  0.243891 -0.392726 -1.192973 -0.980947   \n1 -0.641081  0.910418 -1.216897  0.599578  0.415827  1.618788 -0.605156   \n2 -0.093636  0.551741 -1.519346 -1.397118  1.038379 -0.583599 -0.451159   \n3 -0.916192  0.472002 -0.580053 -0.715760  1.487246  0.682052  0.499685   \n4 -0.531455 -1.299216  0.640543  2.511557 -0.032281 -1.840078 -0.113128   \n\n        f_7       f_8       f_9      target  \n0  0.525937 -0.503722 -1.775982 -318.991749  \n1  1.026895  0.659054  1.363377  209.092608  \n2 -1.287164  1.325797 -2.832156 -276.089545  \n3 -0.067178 -0.831822  0.239405   51.430211  \n4  0.346710 -1.567859  0.123078 -186.125171  ",
      "text/html": "<div>\n<style scoped>\n    .dataframe tbody tr th:only-of-type {\n        vertical-align: middle;\n    }\n\n    .dataframe tbody tr th {\n        vertical-align: top;\n    }\n\n    .dataframe thead th {\n        text-align: right;\n    }\n</style>\n<table border=\"1\" class=\"dataframe\">\n  <thead>\n    <tr style=\"text-align: right;\">\n      <th></th>\n      <th>f_0</th>\n      <th>f_1</th>\n      <th>f_2</th>\n      <th>f_3</th>\n      <th>f_4</th>\n      <th>f_5</th>\n      <th>f_6</th>\n      <th>f_7</th>\n      <th>f_8</th>\n      <th>f_9</th>\n      <th>target</th>\n    </tr>\n  </thead>\n  <tbody>\n    <tr>\n      <th>0</th>\n      <td>-0.445795</td>\n      <td>-0.770814</td>\n      <td>-0.371462</td>\n      <td>0.243891</td>\n      <td>-0.392726</td>\n      <td>-1.192973</td>\n      <td>-0.980947</td>\n      <td>0.525937</td>\n      <td>-0.503722</td>\n      <td>-1.775982</td>\n      <td>-318.991749</td>\n    </tr>\n    <tr>\n      <th>1</th>\n      <td>-0.641081</td>\n      <td>0.910418</td>\n      <td>-1.216897</td>\n      <td>0.599578</td>\n      <td>0.415827</td>\n      <td>1.618788</td>\n      <td>-0.605156</td>\n      <td>1.026895</td>\n      <td>0.659054</td>\n      <td>1.363377</td>\n      <td>209.092608</td>\n    </tr>\n    <tr>\n      <th>2</th>\n      <td>-0.093636</td>\n      <td>0.551741</td>\n      <td>-1.519346</td>\n      <td>-1.397118</td>\n      <td>1.038379</td>\n      <td>-0.583599</td>\n      <td>-0.451159</td>\n      <td>-1.287164</td>\n      <td>1.325797</td>\n      <td>-2.832156</td>\n      <td>-276.089545</td>\n    </tr>\n    <tr>\n      <th>3</th>\n      <td>-0.916192</td>\n      <td>0.472002</td>\n      <td>-0.580053</td>\n      <td>-0.715760</td>\n      <td>1.487246</td>\n      <td>0.682052</td>\n      <td>0.499685</td>\n      <td>-0.067178</td>\n      <td>-0.831822</td>\n      <td>0.239405</td>\n      <td>51.430211</td>\n    </tr>\n    <tr>\n      <th>4</th>\n      <td>-0.531455</td>\n      <td>-1.299216</td>\n      <td>0.640543</td>\n      <td>2.511557</td>\n      <td>-0.032281</td>\n      <td>-1.840078</td>\n      <td>-0.113128</td>\n      <td>0.346710</td>\n      <td>-1.567859</td>\n      <td>0.123078</td>\n      <td>-186.125171</td>\n    </tr>\n  </tbody>\n</table>\n</div>"
     },
     "metadata": {},
     "execution_count": 4
    }
   ],
   "source": [
    "# shuffle the data using sample (frac=1)\n",
    "df = df.sample(frac=1).reset_index(drop=True)\n",
    "print(df.shape)\n",
    "df.head()"
   ]
  },
  {
   "cell_type": "code",
   "execution_count": 5,
   "metadata": {},
   "outputs": [],
   "source": [
    "total_len = df.shape[0]\n",
    "train_len = 0.7 * total_len\n",
    "val_len = total_len - train_len"
   ]
  },
  {
   "cell_type": "code",
   "execution_count": 6,
   "metadata": {},
   "outputs": [
    {
     "output_type": "execute_result",
     "data": {
      "text/plain": "((700, 11), (300, 11))"
     },
     "metadata": {},
     "execution_count": 6
    }
   ],
   "source": [
    "train_set = df.loc[:train_len-1]\n",
    "val_set = df.loc[train_len:]\n",
    "\n",
    "train_set.shape, val_set.shape"
   ]
  },
  {
   "cell_type": "code",
   "execution_count": 7,
   "metadata": {},
   "outputs": [
    {
     "output_type": "execute_result",
     "data": {
      "text/plain": "          f_0       f_1       f_2       f_3       f_4       f_5       f_6  \\\n695  0.243657 -1.126054  0.494064 -0.969744 -0.626315  0.110535 -0.856852   \n696  0.756488 -0.279507  1.320414 -0.803948 -0.247752  0.307346  0.627606   \n697 -0.317103 -0.380695 -0.986440  1.390644  0.103382  0.470014  2.156350   \n698 -0.740490  0.231607  2.084713  0.298452  0.707032 -0.782599 -0.339759   \n699 -0.519396 -0.979721  0.078577  0.077156 -0.165631 -0.593811  0.458168   \n\n          f_7       f_8       f_9      target  \n695 -0.985540 -1.090208 -2.854627 -325.953752  \n696  0.659451 -1.914060 -0.874436   -5.861291  \n697  0.571224 -0.803434  0.516825   66.782452  \n698  0.151403  0.864824 -1.007912  -50.939252  \n699  0.428317 -0.340908 -2.128734 -270.847516  ",
      "text/html": "<div>\n<style scoped>\n    .dataframe tbody tr th:only-of-type {\n        vertical-align: middle;\n    }\n\n    .dataframe tbody tr th {\n        vertical-align: top;\n    }\n\n    .dataframe thead th {\n        text-align: right;\n    }\n</style>\n<table border=\"1\" class=\"dataframe\">\n  <thead>\n    <tr style=\"text-align: right;\">\n      <th></th>\n      <th>f_0</th>\n      <th>f_1</th>\n      <th>f_2</th>\n      <th>f_3</th>\n      <th>f_4</th>\n      <th>f_5</th>\n      <th>f_6</th>\n      <th>f_7</th>\n      <th>f_8</th>\n      <th>f_9</th>\n      <th>target</th>\n    </tr>\n  </thead>\n  <tbody>\n    <tr>\n      <th>695</th>\n      <td>0.243657</td>\n      <td>-1.126054</td>\n      <td>0.494064</td>\n      <td>-0.969744</td>\n      <td>-0.626315</td>\n      <td>0.110535</td>\n      <td>-0.856852</td>\n      <td>-0.985540</td>\n      <td>-1.090208</td>\n      <td>-2.854627</td>\n      <td>-325.953752</td>\n    </tr>\n    <tr>\n      <th>696</th>\n      <td>0.756488</td>\n      <td>-0.279507</td>\n      <td>1.320414</td>\n      <td>-0.803948</td>\n      <td>-0.247752</td>\n      <td>0.307346</td>\n      <td>0.627606</td>\n      <td>0.659451</td>\n      <td>-1.914060</td>\n      <td>-0.874436</td>\n      <td>-5.861291</td>\n    </tr>\n    <tr>\n      <th>697</th>\n      <td>-0.317103</td>\n      <td>-0.380695</td>\n      <td>-0.986440</td>\n      <td>1.390644</td>\n      <td>0.103382</td>\n      <td>0.470014</td>\n      <td>2.156350</td>\n      <td>0.571224</td>\n      <td>-0.803434</td>\n      <td>0.516825</td>\n      <td>66.782452</td>\n    </tr>\n    <tr>\n      <th>698</th>\n      <td>-0.740490</td>\n      <td>0.231607</td>\n      <td>2.084713</td>\n      <td>0.298452</td>\n      <td>0.707032</td>\n      <td>-0.782599</td>\n      <td>-0.339759</td>\n      <td>0.151403</td>\n      <td>0.864824</td>\n      <td>-1.007912</td>\n      <td>-50.939252</td>\n    </tr>\n    <tr>\n      <th>699</th>\n      <td>-0.519396</td>\n      <td>-0.979721</td>\n      <td>0.078577</td>\n      <td>0.077156</td>\n      <td>-0.165631</td>\n      <td>-0.593811</td>\n      <td>0.458168</td>\n      <td>0.428317</td>\n      <td>-0.340908</td>\n      <td>-2.128734</td>\n      <td>-270.847516</td>\n    </tr>\n  </tbody>\n</table>\n</div>"
     },
     "metadata": {},
     "execution_count": 7
    }
   ],
   "source": [
    "# Now we have Training set and validation set with ratio of 7:3 data points\n",
    "train_set.tail()"
   ]
  },
  {
   "cell_type": "code",
   "execution_count": 8,
   "metadata": {},
   "outputs": [
    {
     "output_type": "execute_result",
     "data": {
      "text/plain": "          f_0       f_1       f_2       f_3       f_4       f_5       f_6  \\\n700  0.537768 -1.170281  1.152648  0.518793  0.171469  0.863528  0.467950   \n701  0.874517  0.181427 -0.769996 -1.042044 -0.351921 -0.487203 -0.456121   \n702 -1.918771  0.751933 -0.034712  2.463242  0.301547 -0.192361  1.142823   \n703 -0.188202  0.037697 -1.270952  0.970316  0.220584  0.418760  0.898669   \n704 -1.242247 -0.557131  2.571995 -0.067871  0.739675  0.431632  0.608736   \n\n          f_7       f_8       f_9      target  \n700 -0.998307  0.306389 -1.217404  -59.040321  \n701 -1.203201 -0.649765 -1.296117 -150.423147  \n702  0.060230 -0.026514 -1.168678  -46.073872  \n703 -0.213875 -0.103587 -0.378580  -15.960283  \n704 -1.096220 -1.125587 -2.249432 -138.413221  ",
      "text/html": "<div>\n<style scoped>\n    .dataframe tbody tr th:only-of-type {\n        vertical-align: middle;\n    }\n\n    .dataframe tbody tr th {\n        vertical-align: top;\n    }\n\n    .dataframe thead th {\n        text-align: right;\n    }\n</style>\n<table border=\"1\" class=\"dataframe\">\n  <thead>\n    <tr style=\"text-align: right;\">\n      <th></th>\n      <th>f_0</th>\n      <th>f_1</th>\n      <th>f_2</th>\n      <th>f_3</th>\n      <th>f_4</th>\n      <th>f_5</th>\n      <th>f_6</th>\n      <th>f_7</th>\n      <th>f_8</th>\n      <th>f_9</th>\n      <th>target</th>\n    </tr>\n  </thead>\n  <tbody>\n    <tr>\n      <th>700</th>\n      <td>0.537768</td>\n      <td>-1.170281</td>\n      <td>1.152648</td>\n      <td>0.518793</td>\n      <td>0.171469</td>\n      <td>0.863528</td>\n      <td>0.467950</td>\n      <td>-0.998307</td>\n      <td>0.306389</td>\n      <td>-1.217404</td>\n      <td>-59.040321</td>\n    </tr>\n    <tr>\n      <th>701</th>\n      <td>0.874517</td>\n      <td>0.181427</td>\n      <td>-0.769996</td>\n      <td>-1.042044</td>\n      <td>-0.351921</td>\n      <td>-0.487203</td>\n      <td>-0.456121</td>\n      <td>-1.203201</td>\n      <td>-0.649765</td>\n      <td>-1.296117</td>\n      <td>-150.423147</td>\n    </tr>\n    <tr>\n      <th>702</th>\n      <td>-1.918771</td>\n      <td>0.751933</td>\n      <td>-0.034712</td>\n      <td>2.463242</td>\n      <td>0.301547</td>\n      <td>-0.192361</td>\n      <td>1.142823</td>\n      <td>0.060230</td>\n      <td>-0.026514</td>\n      <td>-1.168678</td>\n      <td>-46.073872</td>\n    </tr>\n    <tr>\n      <th>703</th>\n      <td>-0.188202</td>\n      <td>0.037697</td>\n      <td>-1.270952</td>\n      <td>0.970316</td>\n      <td>0.220584</td>\n      <td>0.418760</td>\n      <td>0.898669</td>\n      <td>-0.213875</td>\n      <td>-0.103587</td>\n      <td>-0.378580</td>\n      <td>-15.960283</td>\n    </tr>\n    <tr>\n      <th>704</th>\n      <td>-1.242247</td>\n      <td>-0.557131</td>\n      <td>2.571995</td>\n      <td>-0.067871</td>\n      <td>0.739675</td>\n      <td>0.431632</td>\n      <td>0.608736</td>\n      <td>-1.096220</td>\n      <td>-1.125587</td>\n      <td>-2.249432</td>\n      <td>-138.413221</td>\n    </tr>\n  </tbody>\n</table>\n</div>"
     },
     "metadata": {},
     "execution_count": 8
    }
   ],
   "source": [
    "val_set.head()"
   ]
  }
 ]
}