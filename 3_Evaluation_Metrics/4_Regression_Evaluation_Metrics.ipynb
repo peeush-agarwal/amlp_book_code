{
 "cells": [
  {
   "cell_type": "markdown",
   "metadata": {},
   "source": [
    "# Evaluation metrics for regression problems\n",
    "\n",
    "There are several metrics for evaluation of model for regression problems. Most commonly used are:\n",
    "+ Mean Absolute Error (MAE)\n",
    "+ Root Mean Squared Error (RMSE)\n",
    "+ Root Mean Squared Logarithmic Error (RMSLE)\n",
    "+ Mean Absolute Percentage Error (MAPE)\n",
    "+ R-Squared ($R^2$)"
   ]
  },
  {
   "cell_type": "markdown",
   "metadata": {},
   "source": [
    "In regression problems, error is simply the difference. \n",
    "\n",
    "$ error = true - prediction $"
   ]
  },
  {
   "cell_type": "markdown",
   "metadata": {},
   "source": [
    "## Mean absolute error (MAE)\n",
    "\n",
    "It is the average of all absolute value of errors for all samples."
   ]
  },
  {
   "cell_type": "code",
   "execution_count": 1,
   "metadata": {},
   "outputs": [],
   "source": [
    "import numpy as np"
   ]
  },
  {
   "cell_type": "code",
   "execution_count": 2,
   "metadata": {},
   "outputs": [],
   "source": [
    "def mae(y_true, y_pred):\n",
    "    \"\"\"\n",
    "    Computes the mean absolute error.\n",
    "    \n",
    "    :param y_true: Actual values\n",
    "    :param y_pred: Predicted values\n",
    "    :returns the mean absolute error.\n",
    "    \"\"\"\n",
    "    return np.mean(np.abs(y_true - y_pred))"
   ]
  },
  {
   "cell_type": "markdown",
   "metadata": {},
   "source": [
    "## Root mean squared error (RMSE)\n",
    "\n",
    "It is the square root of the average of squares of all errors.\n",
    "\n",
    "$ rmse = \\sqrt{\\dfrac{\\sum{(true - prediction)^2}}{N}} $"
   ]
  },
  {
   "cell_type": "code",
   "execution_count": 3,
   "metadata": {},
   "outputs": [],
   "source": [
    "def rmse(y_true, y_pred):\n",
    "    \"\"\"\n",
    "    Computes the root mean squared error.\n",
    "    \n",
    "    :param y_true: Actual values\n",
    "    :param y_pred: Predicted values\n",
    "    :returns the root mean squared error.\n",
    "    \"\"\"\n",
    "    return np.sqrt(np.mean((y_true - y_pred)**2))"
   ]
  },
  {
   "cell_type": "markdown",
   "metadata": {},
   "source": [
    "## Root mean squared log error (RMSLE)\n",
    "\n",
    "It is the square root of average of squares of logarithmic error."
   ]
  },
  {
   "cell_type": "code",
   "execution_count": 4,
   "metadata": {},
   "outputs": [],
   "source": [
    "def rmsle(y_true, y_pred):\n",
    "    \"\"\"\n",
    "    Computes the root mean squared logarithmic error.\n",
    "    \n",
    "    :param y_true: Actual values\n",
    "    :param y_pred: Predicted values\n",
    "    :returns the root mean squared logarithmic error.\n",
    "    \"\"\"\n",
    "    \n",
    "    return np.sqrt(np.mean((np.log(1+y_true) - np.log(1+y_pred))**2))"
   ]
  },
  {
   "cell_type": "markdown",
   "metadata": {},
   "source": [
    "## Mean absolute percentage error (MAPE)\n",
    "\n",
    "It is the average of absolute value of percentage errors."
   ]
  },
  {
   "cell_type": "code",
   "execution_count": 6,
   "metadata": {},
   "outputs": [],
   "source": [
    "def mape(y_true, y_pred):\n",
    "    \"\"\"\n",
    "    Computes the mean absolute percentage error.\n",
    "    \n",
    "    :param y_true: Actual values\n",
    "    :param y_pred: Predicted values\n",
    "    :returns the mean absolute percentage error.\n",
    "    \"\"\"\n",
    "    error = 0.0\n",
    "    for yt, yp in zip(y_true, y_pred):\n",
    "        error += np.abs((yt - yp)/yt)\n",
    "    return np.mean(error)"
   ]
  },
  {
   "cell_type": "markdown",
   "metadata": {},
   "source": [
    "## R-squared ($ R^2 $)\n",
    "\n",
    "It is also known as **Coefficient of determination**\n",
    "\n",
    "$ R^2 = 1 - \\dfrac{\\sum{(yt_i - yp_i)^2}}{\\sum{(yt_i - yt_{mean})^2}} $"
   ]
  },
  {
   "cell_type": "code",
   "execution_count": 5,
   "metadata": {},
   "outputs": [],
   "source": [
    "def r_squared(y_true, y_pred):\n",
    "    \"\"\"\n",
    "    Computes the r-squared error.\n",
    "    \n",
    "    :param y_true: Actual values\n",
    "    :param y_pred: Predicted values\n",
    "    :returns the r-squared error.\n",
    "    \"\"\"\n",
    "    yt_mean = np.mean(y_true)\n",
    "    num = np.sum((y_true - y_pred)**2)\n",
    "    den = np.sum((y_true - yt_mean)**2)\n",
    "    \n",
    "    return 1 - num/den"
   ]
  },
  {
   "cell_type": "code",
   "execution_count": null,
   "metadata": {},
   "outputs": [],
   "source": []
  }
 ],
 "metadata": {
  "kernelspec": {
   "display_name": "Python 3",
   "language": "python",
   "name": "python3"
  },
  "language_info": {
   "codemirror_mode": {
    "name": "ipython",
    "version": 3
   },
   "file_extension": ".py",
   "mimetype": "text/x-python",
   "name": "python",
   "nbconvert_exporter": "python",
   "pygments_lexer": "ipython3",
   "version": "3.7.6"
  }
 },
 "nbformat": 4,
 "nbformat_minor": 4
}
