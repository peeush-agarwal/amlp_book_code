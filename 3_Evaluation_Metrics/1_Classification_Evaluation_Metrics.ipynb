{
 "cells": [
  {
   "cell_type": "markdown",
   "metadata": {},
   "source": [
    "# Evaluation metrics in Binary classification problems\n",
    "\n",
    "We need some kind of evaluation metric to evaluate how good our trained model is doing on unseen data (validation set). Following are the metrics which are commonly used for classification problems:\n",
    "\n",
    "1. Accuracy score\n",
    "2. Precision\n",
    "3. Recall\n",
    "4. Area under ROC (Receiver Operating characteristics) or AUC\n",
    "5. Log loss\n",
    "\n",
    "Knowing above evaluation metrics is good, but we should also know when to use which metric. These metrics usage depend on the problem and mainly target we're trying to predict."
   ]
  },
  {
   "cell_type": "markdown",
   "metadata": {},
   "source": [
    "Consider, a **binary classification problem** i.e. *the target variable is divided into 2 classes*. An example could be a classification problem for given chest X-ray images to classify if there is pneumothorax in the image. Pneumothorax is a condition where the lung is collapsed and it can be seen in the chest X-ray image.\n",
    "\n",
    "![Normal vs Pneumothorax](https://assets.aboutkidshealth.ca/akhassets/Pneumothorax_XRAY_MEDIMG_PHO_EN.png?RenditionID=19)"
   ]
  },
  {
   "cell_type": "markdown",
   "metadata": {},
   "source": [
    "Let's say we're given 100 images with equal number of Pneumothorax and non-Pneumothorax images. For our training purpose, we divide the dataset into training and validation sets (7:3) with same ratio as in original dataset.\n",
    "\n",
    "Thus, we'll have 70 images in training set and 30 images in validation set. Then we train our model on 70 images and we'd like to evaluate the model using validation set. Let's look at our Evaluation metrics for classification."
   ]
  },
  {
   "cell_type": "markdown",
   "metadata": {},
   "source": [
    "## 1. Accuracy score\n",
    "\n",
    "Accuracy score is the ratio of correct predictions out of total in the target. Let's say in our above example, out of 30 images in validation set, the model predicts 27 images correctly. Then we can say model predicts with 90% accuracy or 0.9 accuracy score."
   ]
  },
  {
   "cell_type": "code",
   "execution_count": 3,
   "metadata": {},
   "outputs": [],
   "source": [
    "def accuracy_score_v1(y_true, y_pred):\n",
    "    \"\"\"\n",
    "    Computes the accuracy score\n",
    "    \n",
    "    :param y_true: Actual target values\n",
    "    :param y_pred: Predicted values from the model\n",
    "    :returns: the accuracy score\n",
    "    \"\"\"\n",
    "    # Assign correct variable to zero, which will contain total correct predictions out of the actual values \n",
    "    correct = 0\n",
    "    for yt, yp in zip(y_true, y_pred):\n",
    "        if yt == yp:\n",
    "            correct += 1\n",
    "    return 1.0 * correct / len(y_true)"
   ]
  },
  {
   "cell_type": "code",
   "execution_count": 4,
   "metadata": {},
   "outputs": [
    {
     "data": {
      "text/plain": [
       "0.8"
      ]
     },
     "execution_count": 4,
     "metadata": {},
     "output_type": "execute_result"
    }
   ],
   "source": [
    "# Let's check the accuracy score for the sample data\n",
    "targets = [1, 0, 0, 1, 0, 0, 1, 1, 1, 0]\n",
    "preds   = [0, 1, 0, 1, 0, 0, 1, 1, 1, 0]\n",
    "\n",
    "accuracy_score_v1(targets, preds)"
   ]
  },
  {
   "cell_type": "markdown",
   "metadata": {},
   "source": [
    "Above, we can see that our `accuracy_score_v1` method gives the accuracy score of 0.8 or 80%.\n",
    "\n",
    "`sklearn` python package provides a function to calculate the accuracy score which we can use to cross check."
   ]
  },
  {
   "cell_type": "code",
   "execution_count": 5,
   "metadata": {},
   "outputs": [
    {
     "data": {
      "text/plain": [
       "0.8"
      ]
     },
     "execution_count": 5,
     "metadata": {},
     "output_type": "execute_result"
    }
   ],
   "source": [
    "from sklearn.metrics import accuracy_score\n",
    "\n",
    "accuracy_score(targets, preds)"
   ]
  },
  {
   "cell_type": "markdown",
   "metadata": {},
   "source": [
    "from `sklearn` package's method we get same accuracy score which means our implementation of accuracy score is correct."
   ]
  },
  {
   "cell_type": "markdown",
   "metadata": {},
   "source": [
    "Great!!!"
   ]
  },
  {
   "cell_type": "markdown",
   "metadata": {},
   "source": [
    "Now, consider another example, where we are given a dataset of 100 images in which only 10 images has Pneumothorax and rest are non-Pneumothorax. If we divide the dataset into training and validation as 80:20 with equal ratio of images. Then training set will contain 72 images of non-Pneumothorax and 8 images of Pneumothorax. Similarly, validation set will contain 18 images of non-Pneumothorax and 2 images of Pneumothorax."
   ]
  },
  {
   "cell_type": "markdown",
   "metadata": {},
   "source": [
    "In the above case, if we always predict non-Pneumothorax for any image, then still we'll get 90% accuracy without building a model. But would that be a good case? Definitely not. So we can see that having evaluation metric as `accuracy_score` for all problems wouldn't work. Specially, not in the cases where target variable is skewed. Here comes the `precision`, `recall`, `F1-score`, etc. for the rescue."
   ]
  },
  {
   "cell_type": "markdown",
   "metadata": {},
   "source": [
    "Now, before we move forward with Precision and others, we need to be familiar with some terminologies."
   ]
  },
  {
   "cell_type": "markdown",
   "metadata": {},
   "source": [
    "**True Positive or TP**: It is defined as if the model predicts `True` where the actual value is also `True`, then consider it as True Positive.  \n",
    "**True Negative or TN**: It is defined as if the model predicts `False` where the actual value is also `False`, then consider it as True Negative.  \n",
    "**False Positive or FP**: It is defined as if the model predicts `True` where the actual value is `False`, then consider it as False Positive.  \n",
    "**False Negative or FN**: It is defined as if the model predicts `False` where the actual value is `True`, then consider it as False Negative."
   ]
  },
  {
   "cell_type": "code",
   "execution_count": 6,
   "metadata": {},
   "outputs": [],
   "source": [
    "def true_positive(y_true, y_pred):\n",
    "    \"\"\"\n",
    "    Computes count of True Positive\n",
    "    \n",
    "    :param y_true: Actual target values\n",
    "    :param y_pred: Predicted values from the model\n",
    "    :returns: count of true positive\n",
    "    \"\"\"\n",
    "    tp = 0\n",
    "    for yt, yp in zip(y_true, y_pred):\n",
    "        if yt == 1 and yp == 1:\n",
    "            tp += 1\n",
    "    return tp\n",
    "\n",
    "def true_negative(y_true, y_pred):\n",
    "    \"\"\"\n",
    "    Computes count of True Negative\n",
    "    \n",
    "    :param y_true: Actual target values\n",
    "    :param y_pred: Predicted values from the model\n",
    "    :returns: count of true negative\n",
    "    \"\"\"\n",
    "    tn = 0\n",
    "    for yt, yp in zip(y_true, y_pred):\n",
    "        if yt == 0 and yp == 0:\n",
    "            tn += 1\n",
    "    return tn\n",
    "\n",
    "def false_positive(y_true, y_pred):\n",
    "    \"\"\"\n",
    "    Computes count of False Positive\n",
    "    \n",
    "    :param y_true: Actual target values\n",
    "    :param y_pred: Predicted values from the model\n",
    "    :returns: count of false positive\n",
    "    \"\"\"\n",
    "    fp = 0\n",
    "    for yt, yp in zip(y_true, y_pred):\n",
    "        if yt == 0 and yp == 1:\n",
    "            fp += 1\n",
    "    return fp\n",
    "\n",
    "def false_negative(y_true, y_pred):\n",
    "    \"\"\"\n",
    "    Computes count of False Negative\n",
    "    \n",
    "    :param y_true: Actual target values\n",
    "    :param y_pred: Predicted values from the model\n",
    "    :returns: count of false negative\n",
    "    \"\"\"\n",
    "    fn = 0\n",
    "    for yt, yp in zip(y_true, y_pred):\n",
    "        if yt == 1 and yp == 0:\n",
    "            fn += 1\n",
    "    return fn"
   ]
  },
  {
   "cell_type": "code",
   "execution_count": 7,
   "metadata": {},
   "outputs": [
    {
     "name": "stdout",
     "output_type": "stream",
     "text": [
      "TP:4\n",
      "TN:4\n",
      "FP:1\n",
      "FN:1\n"
     ]
    }
   ],
   "source": [
    "# Let's take same values above targets and preds.\n",
    "targets = [1, 0, 0, 1, 0, 0, 1, 1, 1, 0]\n",
    "preds   = [0, 1, 0, 1, 0, 0, 1, 1, 1, 0]\n",
    "\n",
    "# We know that, TP = 4, TN = 4, FP = 1, FN = 1.\n",
    "# Let's see what our functions gives\n",
    "print(f'TP:{true_positive(targets, preds)}')\n",
    "print(f'TN:{true_negative(targets, preds)}')\n",
    "print(f'FP:{false_positive(targets, preds)}')\n",
    "print(f'FN:{false_negative(targets, preds)}')"
   ]
  },
  {
   "cell_type": "markdown",
   "metadata": {},
   "source": [
    "Voila!! we have same values as we expected."
   ]
  },
  {
   "cell_type": "markdown",
   "metadata": {},
   "source": [
    "Now, as you might be thinking, couldn't we define Accuracy score using terms TP, TN, FP, FN? Yes we can and here's the definition:\n",
    "\n",
    "$ \\text{accuracy_score} = \\dfrac{TP + TN}{TP + TN + FP + FN} $\n",
    "\n",
    "We'll define our new function for `accuracy_score` using these terms internally."
   ]
  },
  {
   "cell_type": "code",
   "execution_count": 8,
   "metadata": {},
   "outputs": [],
   "source": [
    "def accuracy_score_v2(y_true, y_pred):\n",
    "    \"\"\"\n",
    "    Computes the accuracy score\n",
    "    \n",
    "    :param y_true: Actual target values\n",
    "    :param y_pred: Predicted values from the model\n",
    "    :returns: calculated accuracy score from the given values\n",
    "    \"\"\"\n",
    "    \n",
    "    tp = true_positive(y_true, y_pred)\n",
    "    tn = true_negative(y_true, y_pred)\n",
    "    fp = false_positive(y_true, y_pred)\n",
    "    fn = false_negative(y_true, y_pred)\n",
    "    \n",
    "    return (tp + tn) / (tp + tn + fp + fn)"
   ]
  },
  {
   "cell_type": "code",
   "execution_count": 9,
   "metadata": {},
   "outputs": [
    {
     "name": "stdout",
     "output_type": "stream",
     "text": [
      "Acc score (v1)     : 0.8\n",
      "Acc score (v2)     : 0.8\n",
      "Acc score (sklearn): 0.8\n"
     ]
    }
   ],
   "source": [
    "print(f'Acc score (v1)     : {accuracy_score_v1(targets, preds)}')\n",
    "print(f'Acc score (v2)     : {accuracy_score_v2(targets, preds)}')\n",
    "print(f'Acc score (sklearn): {accuracy_score(targets, preds)}')"
   ]
  },
  {
   "cell_type": "markdown",
   "metadata": {},
   "source": [
    "Now, let's deep dive into other Evaluation metrics for binary classification."
   ]
  },
  {
   "cell_type": "markdown",
   "metadata": {},
   "source": [
    "## 2. Precision\n",
    "\n",
    "<img src=\"https://upload.wikimedia.org/wikipedia/commons/2/26/Precisionrecall.svg\" alt=\"Precision vs Recall\" title=\"Precision vs Recall\" style=\"height:750px\" align=\"right\" />\n",
    "*Mathematically, Precision is defined as the fraction of relevant instances among all retrieved instances.*\n",
    "\n",
    "In simple terms, it can be defined as the ratio of correctly predicted positives out of total predicted positives. \n",
    "\n",
    "$ Precision = \\dfrac{TP}{TP+FP} $\n",
    "\n",
    "This metric and others as well are helpful in case of skewed target variable. Considering an example above, our accuracy was 90% though the Precision would be 0, because there are no True Positive found."
   ]
  },
  {
   "cell_type": "code",
   "execution_count": 10,
   "metadata": {},
   "outputs": [],
   "source": [
    "def precision(y_true, y_pred):\n",
    "    \"\"\"\n",
    "    Computes the precision score\n",
    "    \n",
    "    :param y_true: Actual target values\n",
    "    :param y_pred: Predicted values from the model\n",
    "    :returns: Precision score for the given values\n",
    "    \"\"\"\n",
    "    tp = true_positive(y_true, y_pred)\n",
    "    fp = false_positive(y_true, y_pred)\n",
    "    return 1.0*tp / (tp + fp)"
   ]
  },
  {
   "cell_type": "code",
   "execution_count": 11,
   "metadata": {},
   "outputs": [
    {
     "name": "stdout",
     "output_type": "stream",
     "text": [
      "Accuracy : 0.8\n",
      "Precision: 0.5\n"
     ]
    }
   ],
   "source": [
    "# Consider another example to actually show power of Precision over Accuracy score\n",
    "targets = [1, 0, 0, 0, 0, 0, 1, 0, 0, 0]\n",
    "preds   = [1, 0, 0, 0, 0, 0, 0, 0, 0, 1]\n",
    "\n",
    "print('Accuracy : {}'.format(accuracy_score_v2(targets, preds)))\n",
    "print('Precision: {}'.format(precision(targets, preds)))"
   ]
  },
  {
   "cell_type": "markdown",
   "metadata": {},
   "source": [
    "As you can see above, our accuracy is 80% but our precision is just 50% and this conveys that our model is having issues with predicting Positives correctly."
   ]
  },
  {
   "cell_type": "markdown",
   "metadata": {},
   "source": [
    "## 3. Recall\n",
    "\n",
    "*Mathematically, it is defined as the fraction of retrieved instances among all relevant instances.*\n",
    "\n",
    "It can be defined as the ratio of correctly predicted positives out of all actual positives.\n",
    "\n",
    "$ Recall = \\dfrac{TP}{TP+FN} $"
   ]
  },
  {
   "cell_type": "code",
   "execution_count": 12,
   "metadata": {},
   "outputs": [],
   "source": [
    "def recall(y_true, y_pred):\n",
    "    \"\"\"\n",
    "    Computes the recall score\n",
    "    \n",
    "    :param y_true: Actual target values\n",
    "    :param y_pred: Predicted values from the model\n",
    "    :returns: Recall score for the given values\n",
    "    \"\"\"\n",
    "    tp = true_positive(y_true, y_pred)\n",
    "    fn = false_negative(y_true, y_pred)\n",
    "    return 1.0*tp / (tp + fn)"
   ]
  },
  {
   "cell_type": "code",
   "execution_count": 13,
   "metadata": {},
   "outputs": [
    {
     "name": "stdout",
     "output_type": "stream",
     "text": [
      "Accuracy : 0.8\n",
      "Precision: 0.5\n",
      "Recall   : 0.5\n"
     ]
    }
   ],
   "source": [
    "# Consider another example to actually show power of Precision, Recall over Accuracy score\n",
    "targets = [1, 0, 0, 0, 0, 0, 1, 0, 0, 0]\n",
    "preds   = [1, 0, 0, 0, 0, 0, 0, 0, 0, 1]\n",
    "\n",
    "print('Accuracy : {}'.format(accuracy_score_v2(targets, preds)))\n",
    "print('Precision: {}'.format(precision(targets, preds)))\n",
    "print('Recall   : {}'.format(recall(targets, preds)))"
   ]
  },
  {
   "cell_type": "markdown",
   "metadata": {},
   "source": [
    "Now, we have a way to calculate Precision and Recall scores. We know that these both can range from 0 to 1. Both metrics having value closer to 1 suggests that we have a good model. But having look at both the metrics can be confusing when either of them is high and another is low. To rescue this, we have **F1-Score**."
   ]
  },
  {
   "cell_type": "markdown",
   "metadata": {},
   "source": [
    "### F1 score\n",
    "\n",
    "It is another metric which helps us in evaluating the model in case of skewed target variable. It is the simple harmonic mean of Precision and Recall.\n",
    "\n",
    "$ \\text{f1_score} = \\dfrac{2PR}{P+R} $, where, `P` = Precision and `R` = Recall"
   ]
  },
  {
   "cell_type": "code",
   "execution_count": 14,
   "metadata": {},
   "outputs": [],
   "source": [
    "def f1_score(y_true, y_pred):\n",
    "    \"\"\"\n",
    "    Computes the F1 score\n",
    "    \n",
    "    :param y_true: Actual target values\n",
    "    :param y_pred: Predicted values from the model\n",
    "    :returns: F1 score for the given values\n",
    "    \"\"\"\n",
    "    p = precision(y_true, y_pred)\n",
    "    r = recall(y_true, y_pred)\n",
    "    return (2*p*r)/(p+r)"
   ]
  },
  {
   "cell_type": "code",
   "execution_count": 15,
   "metadata": {},
   "outputs": [
    {
     "name": "stdout",
     "output_type": "stream",
     "text": [
      "Accuracy : 0.8\n",
      "Precision: 0.5\n",
      "Recall   : 0.5\n",
      "F1 score : 0.5\n"
     ]
    }
   ],
   "source": [
    "# Consider another example to actually show power of Precision, Recall over Accuracy score\n",
    "targets = [1, 0, 0, 0, 0, 0, 1, 0, 0, 0]\n",
    "preds   = [1, 0, 0, 0, 0, 0, 0, 0, 0, 1]\n",
    "\n",
    "print('Accuracy : {}'.format(accuracy_score_v2(targets, preds)))\n",
    "print('Precision: {}'.format(precision(targets, preds)))\n",
    "print('Recall   : {}'.format(recall(targets, preds)))\n",
    "print('F1 score : {}'.format(f1_score(targets, preds)))\n"
   ]
  },
  {
   "cell_type": "markdown",
   "metadata": {},
   "source": [
    "We have other terms like `TPR` and `FPR` which helps us in defining other important metrics further."
   ]
  },
  {
   "cell_type": "markdown",
   "metadata": {},
   "source": [
    "### True Positive Rate (TPR)\n",
    "\n",
    "It is same as Recall. This is also known as **Sensitivity**.\n",
    "\n",
    "$ TPR = \\dfrac{TP}{TP+FN} $"
   ]
  },
  {
   "cell_type": "code",
   "execution_count": 16,
   "metadata": {},
   "outputs": [],
   "source": [
    "def tpr(y_true, y_pred):\n",
    "    \"\"\"\n",
    "    Computes the True Positive Rate (TPR)\n",
    "    \n",
    "    :param y_true: Actual target values\n",
    "    :param y_pred: Predicted values from the model\n",
    "    :returns: TPR for the given values\n",
    "    \"\"\"\n",
    "    return recall(y_true, y_pred)"
   ]
  },
  {
   "cell_type": "markdown",
   "metadata": {},
   "source": [
    "### False Positive Rate (FPR)\n",
    "\n",
    "It is defined as,\n",
    "\n",
    "$ FPR = \\dfrac{FP}{TN+FP} $"
   ]
  },
  {
   "cell_type": "code",
   "execution_count": 17,
   "metadata": {},
   "outputs": [],
   "source": [
    "def fpr(y_true, y_pred):\n",
    "    \"\"\"\n",
    "    Computes the False Positive Rate (FPR)\n",
    "    \n",
    "    :param y_true: Actual target values\n",
    "    :param y_pred: Predicted values from the model\n",
    "    :returns: FPR for the given values\n",
    "    \"\"\"\n",
    "    tn = true_negative(y_true, y_pred)\n",
    "    fp = false_positive(y_true, y_pred)\n",
    "    return 1.0 * fp / (tn + fp)"
   ]
  },
  {
   "cell_type": "markdown",
   "metadata": {},
   "source": [
    "If we calculate,\n",
    "\n",
    "$ 1 - FPR $, that gives us **True Negative Rate (TNR)**, also known as **Specificity**."
   ]
  },
  {
   "cell_type": "markdown",
   "metadata": {},
   "source": [
    "Now, in case of any classification model, the model predicts probabilities for each class and then we based on a threshold value, calculates the class for which prediction belongs. For an example, if a binary classifier model predicts probability that 0.8 for Class 1 and 0.2 for Class 2. Based on the threshold (say, `0.5` most of the times), we calculate the class to be *Class 1* (since, 0.8 > 0.5)."
   ]
  },
  {
   "cell_type": "markdown",
   "metadata": {},
   "source": [
    "## 4. Area under ROC (Receiver Operating characteristics) or AUC"
   ]
  },
  {
   "cell_type": "markdown",
   "metadata": {},
   "source": [
    "So, interesting thing to note above is that our TPR or FPR depends on the threshold values we choose. And that's where it gets trickier to predict class and which threshold to choose that works better in the context of the problem.\n",
    "\n",
    "For now, let's plot TPR and FPR for all threshold values in between 0 and 1 for the sake of our understanding."
   ]
  },
  {
   "cell_type": "code",
   "execution_count": 39,
   "metadata": {},
   "outputs": [
    {
     "name": "stdout",
     "output_type": "stream",
     "text": [
      "Data for TPR and FPR for each threshold value\n",
      "   Threshold  TPR  FPR\n",
      "0       0.00  1.0  1.0\n",
      "1       0.10  1.0  0.9\n",
      "2       0.20  1.0  0.7\n",
      "3       0.30  0.8  0.6\n",
      "4       0.40  0.8  0.3\n",
      "5       0.50  0.8  0.3\n",
      "6       0.60  0.8  0.2\n",
      "7       0.70  0.6  0.1\n",
      "8       0.80  0.6  0.1\n",
      "9       0.85  0.4  0.1\n"
     ]
    },
    {
     "data": {
      "image/png": "[encoded data removed]",
      "text/plain": [
       "<Figure size 504x504 with 1 Axes>"
      ]
     },
     "metadata": {
      "needs_background": "light"
     },
     "output_type": "display_data"
    }
   ],
   "source": [
    "tprs = [] # Empty list to contain values of TPR for corresponding threshold value\n",
    "fprs = [] # Empty list to contain values of FPR for corresponding threshold value\n",
    "\n",
    "#actual target values\n",
    "y_true = [0, 0, 0, 0, 1, 0, 1, 0, 0, 1, 0, 1, 0, 0, 1]\n",
    "\n",
    "# predicted probabilities of a sample being 1\n",
    "y_pred_probs = [0.1, 0.3, 0.2, 0.6, 0.8, 0.05, 0.9, 0.5, 0.3, 0.66, 0.3, 0.2, 0.85, 0.15, 0.99]\n",
    "\n",
    "# handmade thresholds\n",
    "thresholds = [0, 0.1, 0.2, 0.3, 0.4, 0.5, 0.6, 0.7, 0.8, 0.85, 0.9, 0.99, 1.0]\n",
    "\n",
    "# Book keeping in DataFrame\n",
    "import pandas as pd\n",
    "df = pd.DataFrame()\n",
    "\n",
    "for i, threshold in enumerate(thresholds):\n",
    "    y_pred = [1 if prob >= threshold else 0 for prob in y_pred_probs]\n",
    "    \n",
    "    tpr_ = tpr(y_true, y_pred)\n",
    "    fpr_ = fpr(y_true, y_pred)\n",
    "    \n",
    "    tprs.append(tpr_)\n",
    "    fprs.append(fpr_)\n",
    "    \n",
    "    temp = pd.DataFrame({'Threshold': threshold,'TPR': tpr_, 'FPR': fpr_}, index=[i])\n",
    "    df = df.append(temp)\n",
    "\n",
    "print('Data for TPR and FPR for each threshold value')\n",
    "print(df.head(10))\n",
    "\n",
    "import matplotlib.pyplot as plt\n",
    "    \n",
    "plt.figure(figsize=(7, 7))\n",
    "plt.fill_between(fprs, tprs, alpha=0.4)\n",
    "plt.plot(fprs, tprs, lw=3)\n",
    "plt.xlim(0, 1.0)\n",
    "plt.ylim(0, 1.0)\n",
    "plt.xlabel('FPR', fontsize=15)\n",
    "plt.ylabel('TPR', fontsize=15)\n",
    "plt.title('TPR vs FPR [Receiver Operating Characteristic (ROC) curve]')\n",
    "plt.show()"
   ]
  },
  {
   "cell_type": "markdown",
   "metadata": {},
   "source": [
    "Above curve gives us **Receiver Operating Characteristic Curve (ROC curve)** and the **Area under ROC curve** or commonly known as **AUC** is another metric for evaluation.\n",
    "\n",
    "We can use `sklearn` package to get area under above ROC curve."
   ]
  },
  {
   "cell_type": "code",
   "execution_count": 40,
   "metadata": {},
   "outputs": [
    {
     "data": {
      "text/plain": [
       "0.8300000000000001"
      ]
     },
     "execution_count": 40,
     "metadata": {},
     "output_type": "execute_result"
    }
   ],
   "source": [
    "from sklearn.metrics import roc_auc_score\n",
    "\n",
    "roc_auc_score(y_true, y_pred_probs)"
   ]
  },
  {
   "cell_type": "markdown",
   "metadata": {},
   "source": [
    "Let's understand AUC values which are in range of 0 to 1.\n",
    "\n",
    "+ **AUC = 1**: It implies that the model is a perfect model, ideally. But in real world, it indicates that we have made some mistake in our data processing or validation step and we need to go back and check the process.\n",
    "+ **AUC = 0**: It implies that the model is worse (Or perfect). Normally, we should try to inverse the probabilities of the predictions, like, if we have probability *p* for positives then convert it to *1-p*.\n",
    "+ **AUC = 0.5**: It implies that our predictions are completely random. So, for binary classification, if we predict 0.5 for all targets, we get an AUC of 0.5.\n",
    "+ **AUC < 0.5**: It implies that the model is worse than random. Most of the times, its because we inverted the classes.\n",
    "+ **AUC closer to 1** is considered good.\n",
    "\n",
    "AUC is a widely used metric for skewed binary classification tasks in the industry."
   ]
  },
  {
   "cell_type": "markdown",
   "metadata": {},
   "source": [
    "We can choose ROC to get better threshold value to predict the classes out of probabilities."
   ]
  },
  {
   "cell_type": "markdown",
   "metadata": {},
   "source": [
    "## 5. Log loss\n",
    "\n",
    "$ \\text{Log_Loss} = -1 * [target * log(prediction) + (1 - target) * log(1-prediction)] $  \n",
    "where, \n",
    "+ target is either 0 or 1\n",
    "+ prediction is the probability of a sample belonging to class 1.\n",
    "\n",
    "For multiple samples in the dataset, the log-loss over all samples is a mere average of all individual log-losses. Log loss penalizes quite high for an incorrect or far-off prediction i.e. log loss punishes you for being sure and very wrong."
   ]
  },
  {
   "cell_type": "code",
   "execution_count": 44,
   "metadata": {},
   "outputs": [],
   "source": [
    "def log_loss(y_true, y_probs):\n",
    "    \"\"\"\n",
    "    Compute the log loss for the given values\n",
    "    \n",
    "    :param y_true: Actual target values\n",
    "    :param y_probs: Predicted probabilities from the model\n",
    "    :returns Log loss over all given values\n",
    "    \"\"\"\n",
    "    import numpy as np\n",
    "    eps = 1e-15\n",
    "    losses = []\n",
    "    for yt, yp in zip(y_true, y_probs):\n",
    "        # Adjust the probability\n",
    "        # 0 is converted to eps or 1e-15\n",
    "        # 1 is converted to 1-eps or 1-1e-15\n",
    "        y_pred = np.clip(yp, eps, 1-eps)\n",
    "        loss = -1.0 * (yt * np.log(y_pred) + (1-yt)*np.log(1-y_pred))\n",
    "        losses.append(loss)\n",
    "    # Mean of all losses\n",
    "    return np.mean(losses)"
   ]
  },
  {
   "cell_type": "code",
   "execution_count": 45,
   "metadata": {},
   "outputs": [
    {
     "data": {
      "text/plain": [
       "0.49882711861432294"
      ]
     },
     "execution_count": 45,
     "metadata": {},
     "output_type": "execute_result"
    }
   ],
   "source": [
    "log_loss(y_true, y_pred_probs)"
   ]
  },
  {
   "cell_type": "code",
   "execution_count": 46,
   "metadata": {},
   "outputs": [
    {
     "data": {
      "text/plain": [
       "0.49882711861432294"
      ]
     },
     "execution_count": 46,
     "metadata": {},
     "output_type": "execute_result"
    }
   ],
   "source": [
    "from sklearn.metrics import log_loss\n",
    "\n",
    "log_loss(y_true, y_pred_probs)"
   ]
  },
  {
   "cell_type": "markdown",
   "metadata": {},
   "source": [
    "That's it! Now, we know important Evaluation metrics those are used for Binary classification problems."
   ]
  }
 ],
 "metadata": {
  "kernelspec": {
   "display_name": "Python 3",
   "language": "python",
   "name": "python3"
  },
  "language_info": {
   "codemirror_mode": {
    "name": "ipython",
    "version": 3
   },
   "file_extension": ".py",
   "mimetype": "text/x-python",
   "name": "python",
   "nbconvert_exporter": "python",
   "pygments_lexer": "ipython3",
   "version": "3.7.6"
  }
 },
 "nbformat": 4,
 "nbformat_minor": 4
}
