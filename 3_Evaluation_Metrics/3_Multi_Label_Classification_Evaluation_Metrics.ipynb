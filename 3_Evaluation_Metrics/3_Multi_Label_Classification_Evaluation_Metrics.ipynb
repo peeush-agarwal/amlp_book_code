{
 "cells": [
  {
   "cell_type": "markdown",
   "metadata": {},
   "source": [
    "# Multi label classification\n",
    "\n",
    "This type of classification deals with type of problems the target is multiple instead of just 1 label. For example, given an image, we need to predict what different objects are present in the image.\n",
    "\n",
    "For this type of problem, evaluation metrics are also different. Most commons ones are:\n",
    "1. Precision at k (P@k)\n",
    "1. Average precision at k (AP@k)\n",
    "1. Mean average precision at k (MAP@k)\n",
    "1. Log loss"
   ]
  },
  {
   "cell_type": "markdown",
   "metadata": {},
   "source": [
    "## Precision at k (P@k)\n",
    "\n",
    "It is defined as the number of hits for top-k predictions for actual classes. Please don't take this as same precision as we learnt in Binary or Multi-class classification."
   ]
  },
  {
   "cell_type": "code",
   "execution_count": 1,
   "metadata": {},
   "outputs": [],
   "source": [
    "def precision_k(y_true, y_pred, k):\n",
    "    \"\"\"\n",
    "    Computes the precision at k for a single sample\n",
    "    \n",
    "    :param y_true: Actual classes for the sample\n",
    "    :param y_pred: Predicted classes for the sample\n",
    "    :param k: The value for k\n",
    "    :returns computed precision at k\n",
    "    \"\"\"\n",
    "    \n",
    "    if k == 0:\n",
    "        return 0\n",
    "    \n",
    "    y_pred = y_pred[:k]\n",
    "    y_pred_set = set(y_pred)\n",
    "    \n",
    "    y_true_set = set(y_true)\n",
    "    \n",
    "    common_classes = y_pred_set.intersection(y_true_set)\n",
    "    \n",
    "    return len(common_classes) / len(y_pred[:k])"
   ]
  },
  {
   "cell_type": "markdown",
   "metadata": {},
   "source": [
    "## Average precision at k (AP@k)\n",
    "\n",
    "It is the average of precision at all k i.e. AP@3 = average of P@1, P@2 and P@3."
   ]
  },
  {
   "cell_type": "code",
   "execution_count": 2,
   "metadata": {},
   "outputs": [],
   "source": [
    "def avg_precision_k(y_true, y_pred, k):\n",
    "    \"\"\"\n",
    "    Computes the average precision at k for a single sample\n",
    "    \n",
    "    :param y_true: Actual classes for the sample\n",
    "    :param y_pred: Predicted classes for the sample\n",
    "    :param k: The value for k\n",
    "    :returns computed average precision at k\n",
    "    \"\"\"\n",
    "    if k == 0:\n",
    "        return 0\n",
    "    \n",
    "    p_k = []\n",
    "    for i in range(1, k+1):\n",
    "        p_k.append(precision_k(y_true, y_pred, i))\n",
    "    \n",
    "    if len(p_k) == 0:\n",
    "        return 0\n",
    "    return sum(p_k)/len(p_k)"
   ]
  },
  {
   "cell_type": "markdown",
   "metadata": {},
   "source": [
    "Let's use functions for an example."
   ]
  },
  {
   "cell_type": "code",
   "execution_count": 3,
   "metadata": {},
   "outputs": [],
   "source": [
    "y_true = [\n",
    "    [1, 2, 3],\n",
    "    [0, 2],\n",
    "    [1],\n",
    "    [2, 3],\n",
    "    [1, 0],\n",
    "    []\n",
    "]\n",
    "\n",
    "y_pred = [\n",
    "    [0, 1, 2],\n",
    "    [1],\n",
    "    [0, 2, 3],\n",
    "    [2, 3, 4, 0],\n",
    "    [0, 1, 2],\n",
    "    [0]\n",
    "]"
   ]
  },
  {
   "cell_type": "code",
   "execution_count": 5,
   "metadata": {},
   "outputs": [
    {
     "name": "stdout",
     "output_type": "stream",
     "text": [
      "\n",
      "        y_true=[1, 2, 3],\n",
      "        y_pred=[0, 1, 2],\n",
      "        AP@1=0.0\n",
      "        \n",
      "\n",
      "        y_true=[1, 2, 3],\n",
      "        y_pred=[0, 1, 2],\n",
      "        AP@2=0.25\n",
      "        \n",
      "\n",
      "        y_true=[1, 2, 3],\n",
      "        y_pred=[0, 1, 2],\n",
      "        AP@3=0.38888888888888884\n",
      "        \n",
      "\n",
      "        y_true=[0, 2],\n",
      "        y_pred=[1],\n",
      "        AP@1=0.0\n",
      "        \n",
      "\n",
      "        y_true=[0, 2],\n",
      "        y_pred=[1],\n",
      "        AP@2=0.0\n",
      "        \n",
      "\n",
      "        y_true=[0, 2],\n",
      "        y_pred=[1],\n",
      "        AP@3=0.0\n",
      "        \n",
      "\n",
      "        y_true=[1],\n",
      "        y_pred=[0, 2, 3],\n",
      "        AP@1=0.0\n",
      "        \n",
      "\n",
      "        y_true=[1],\n",
      "        y_pred=[0, 2, 3],\n",
      "        AP@2=0.0\n",
      "        \n",
      "\n",
      "        y_true=[1],\n",
      "        y_pred=[0, 2, 3],\n",
      "        AP@3=0.0\n",
      "        \n",
      "\n",
      "        y_true=[2, 3],\n",
      "        y_pred=[2, 3, 4, 0],\n",
      "        AP@1=1.0\n",
      "        \n",
      "\n",
      "        y_true=[2, 3],\n",
      "        y_pred=[2, 3, 4, 0],\n",
      "        AP@2=1.0\n",
      "        \n",
      "\n",
      "        y_true=[2, 3],\n",
      "        y_pred=[2, 3, 4, 0],\n",
      "        AP@3=0.8888888888888888\n",
      "        \n",
      "\n",
      "        y_true=[1, 0],\n",
      "        y_pred=[0, 1, 2],\n",
      "        AP@1=1.0\n",
      "        \n",
      "\n",
      "        y_true=[1, 0],\n",
      "        y_pred=[0, 1, 2],\n",
      "        AP@2=1.0\n",
      "        \n",
      "\n",
      "        y_true=[1, 0],\n",
      "        y_pred=[0, 1, 2],\n",
      "        AP@3=0.8888888888888888\n",
      "        \n",
      "\n",
      "        y_true=[],\n",
      "        y_pred=[0],\n",
      "        AP@1=0.0\n",
      "        \n",
      "\n",
      "        y_true=[],\n",
      "        y_pred=[0],\n",
      "        AP@2=0.0\n",
      "        \n",
      "\n",
      "        y_true=[],\n",
      "        y_pred=[0],\n",
      "        AP@3=0.0\n",
      "        \n"
     ]
    }
   ],
   "source": [
    "for yt, yp in zip(y_true, y_pred):\n",
    "    for j in range(1, 4):\n",
    "        print(\n",
    "        f\"\"\"\n",
    "        y_true={yt},\n",
    "        y_pred={yp},\n",
    "        AP@{j}={avg_precision_k(yt, yp, j)}\n",
    "        \"\"\")"
   ]
  },
  {
   "cell_type": "markdown",
   "metadata": {},
   "source": [
    "As seen above, this is all for one sample, but in ML, we do for all samples. For this we calculate, **mean average precision at k or MAP@k**."
   ]
  },
  {
   "cell_type": "markdown",
   "metadata": {},
   "source": [
    "## Mean average precision at k or MAP@k\n",
    "\n",
    "It is the average of all AP@k."
   ]
  },
  {
   "cell_type": "code",
   "execution_count": 6,
   "metadata": {},
   "outputs": [],
   "source": [
    "def map_k(y_true, y_pred, k):\n",
    "    \"\"\"\n",
    "    Computes the mean average precision at k or map@k\n",
    "    \n",
    "    :param y_true: Actual classes\n",
    "    :param y_pred: Predicted classes\n",
    "    :param k: the value of k\n",
    "    :returns the mean average precision at k\n",
    "    \"\"\"\n",
    "    if k == 0:\n",
    "        return 0\n",
    "    apk = []\n",
    "    for yt, yp in zip(y_true, y_pred):\n",
    "        apk.append(avg_precision_k(yt, yp, k))\n",
    "    return sum(apk) / len(apk)"
   ]
  },
  {
   "cell_type": "code",
   "execution_count": 7,
   "metadata": {},
   "outputs": [
    {
     "name": "stdout",
     "output_type": "stream",
     "text": [
      "MAP@1: 0.3333333333333333\n",
      "MAP@2: 0.375\n",
      "MAP@3: 0.3611111111111111\n",
      "MAP@4: 0.34722222222222215\n"
     ]
    }
   ],
   "source": [
    "# Calculate for an example\n",
    "y_true = [\n",
    "    [1, 2, 3],\n",
    "    [0, 2],\n",
    "    [1],\n",
    "    [2, 3],\n",
    "    [1, 0],\n",
    "    []\n",
    "]\n",
    "\n",
    "y_pred = [\n",
    "    [0, 1, 2],\n",
    "    [1],\n",
    "    [0, 2, 3],\n",
    "    [2, 3, 4, 0],\n",
    "    [0, 1, 2],\n",
    "    [0]\n",
    "]\n",
    "\n",
    "for i in range(1, 5):\n",
    "    print(f'MAP@{i}: {map_k(y_true, y_pred, k=i)}')"
   ]
  },
  {
   "cell_type": "markdown",
   "metadata": {},
   "source": [
    "## Mean column-wise log loss\n",
    "\n",
    "To calculate this, we can convert the targets to binary format and then use a log-loss for each column. In the end, you can take the average of log loss in each column. This is known as **mean column-wise log loss**."
   ]
  }
 ],
 "metadata": {
  "kernelspec": {
   "display_name": "Python 3",
   "language": "python",
   "name": "python3"
  },
  "language_info": {
   "codemirror_mode": {
    "name": "ipython",
    "version": 3
   },
   "file_extension": ".py",
   "mimetype": "text/x-python",
   "name": "python",
   "nbconvert_exporter": "python",
   "pygments_lexer": "ipython3",
   "version": "3.7.6"
  }
 },
 "nbformat": 4,
 "nbformat_minor": 4
}
